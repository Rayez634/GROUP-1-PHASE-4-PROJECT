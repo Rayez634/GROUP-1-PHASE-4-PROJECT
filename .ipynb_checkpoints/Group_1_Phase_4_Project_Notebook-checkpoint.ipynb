{
 "cells": [
  {
   "cell_type": "markdown",
   "id": "ecdc9962-119f-4b86-a634-8f852cc01d0d",
   "metadata": {},
   "source": [
    "# AMAZON CUSTOMER REVIEW"
   ]
  },
  {
   "cell_type": "markdown",
   "id": "cb24dea3-f72e-4e84-b2c7-02b56a7094fd",
   "metadata": {},
   "source": [
    "## 1.0 BUSINESS UNDERSTANDING"
   ]
  },
  {
   "cell_type": "markdown",
   "id": "775bdaf8-2c3a-4874-92d7-b0d19ddea60c",
   "metadata": {},
   "source": [
    "In the online market of today, customer reviews are an essential part of purchasing decisions. Amazon, being a giant online store, collects millions of product reviews that indicate customer satisfaction, product quality, and overall user experience. It is not efficient, however, to process such vast data manually as it is time-consuming.\n",
    "\n",
    "Sentiment analysis enables companies to analyze customers' feedback automatically, extract meaningful information, and make knowledgeable decisions to improve products, enhance customer experience, and refine marketing strategies.\n",
    "\n",
    "\n",
    "\n",
    "\n",
    "\n",
    "\n",
    "\n"
   ]
  },
  {
   "cell_type": "markdown",
   "id": "d53fca14-8121-44f5-be03-0cbc8d1a9168",
   "metadata": {},
   "source": [
    "## 1.1 PROBLEM STATEMENT"
   ]
  },
  {
   "cell_type": "markdown",
   "id": "a0c43ab3-46c0-4e94-9493-f6da1f1c60f7",
   "metadata": {},
   "source": [
    "Amazon gets millions of reviews, and it's not possible to read and analyze them manually. We need an automated system for sentiment analysis to categorize the reviews as positive, negative, or neutral and also to gain insightful information too."
   ]
  },
  {
   "cell_type": "markdown",
   "id": "89a48d87-e101-432e-bb40-97f4cd073176",
   "metadata": {},
   "source": [
    "## 1.2 OBJECTIVES"
   ]
  },
  {
   "cell_type": "markdown",
   "id": "f1fc6d00-6cbc-4d95-b007-f30e92058d8c",
   "metadata": {},
   "source": [
    "## 1.2.1 Main Objectives"
   ]
  },
  {
   "cell_type": "markdown",
   "id": "fa005f60-0274-4563-9d64-2ced5df1e780",
   "metadata": {},
   "source": [
    "To accurately determine the overall emotional tone (positive, negative, or neutral) of customer reviews by leveraging Natural Language Processing (NLP) and Machine Learning techniques."
   ]
  },
  {
   "cell_type": "markdown",
   "id": "19b9229d-68ec-4ec1-9da3-24736c12cea6",
   "metadata": {},
   "source": [
    "## 1.2.2 Specific Objectives"
   ]
  },
  {
   "cell_type": "markdown",
   "id": "ebd86fda-55e0-43d7-8f17-ac5bb6f9539b",
   "metadata": {},
   "source": [
    "* Identify trends in customer satisfaction.\n",
    "\n",
    "* Improve customer experience by addressing negative feedback.\n",
    "\n",
    "* Help businesses optimize their product offerings based on user sentiment.\n"
   ]
  },
  {
   "cell_type": "markdown",
   "id": "32ca0d07-bfe8-4e86-bbcd-ed15c19587c5",
   "metadata": {},
   "source": [
    "## 1.3 Business Questions"
   ]
  },
  {
   "cell_type": "markdown",
   "id": "2757c500-dab3-47cd-8ec6-7f6ec654ca57",
   "metadata": {},
   "source": [
    "* What percentage of customer reviews are positive, negative, or neutral?\n",
    "* Are there specific features or keywords associated with  reviews?\n",
    "* Can sentiment analysis help predict potential or customer dissatisfaction?\n",
    "* Can the  business use sentiment insights to improve product quality and customer support?\n"
   ]
  },
  {
   "cell_type": "markdown",
   "id": "4374db04-fc67-4c9f-8513-cde1c27b5678",
   "metadata": {},
   "source": [
    "## 1.4 Metric of Success"
   ]
  },
  {
   "cell_type": "code",
   "execution_count": null,
   "id": "f6f4a8b9-5f41-4e68-9109-d448b81f5826",
   "metadata": {},
   "outputs": [],
   "source": []
  },
  {
   "cell_type": "markdown",
   "id": "237a4f79-cfa0-4f2f-b5d6-8d7834a520d0",
   "metadata": {},
   "source": [
    "# 2.0 DATA UNDERSTANDING"
   ]
  },
  {
   "cell_type": "markdown",
   "id": "0267a756-06e5-4eab-85f5-e4ca713fcd93",
   "metadata": {},
   "source": [
    "The dataset used for this sentiment analysis project consists of Amazon product reviews, which provide insights into customer opinions about various products. It contains 1,597 records with 27 columns, capturing details about the product, review content and user feedback.\n"
   ]
  },
  {
   "cell_type": "markdown",
   "id": "64bcb110-81f0-4314-af66-74ecef8860c8",
   "metadata": {},
   "source": [
    "The dataset comprises of the following columns:"
   ]
  },
  {
   "cell_type": "markdown",
   "id": "58e7bb4e-ef70-4cc2-ba1c-e353523889f6",
   "metadata": {},
   "source": [
    "id → Unique identifier for each review.\n",
    "\n",
    "asins → Amazon Standard Identification Number (ASIN) of the product.\n",
    "\n",
    "brand → Brand of the product.\n",
    "\n",
    "categories → Product categories (e.g., \"Amazon Devices\").\n",
    "\n",
    "colors → Available colors of the product (often missing).\n",
    "\n",
    "dateAdded → Date the review was added to the dataset.\n",
    "\n",
    "dateUpdated → Date the review was last updated.\n",
    "\n",
    "dimension → Physical dimensions of the product.\n",
    "\n",
    "manufacturer → Manufacturer of the product.\n",
    "\n",
    "manufacturerNumber → Manufacturer’s product number.\n",
    "\n",
    "name → Product name.\n",
    "\n",
    "prices → Pricing details of the product.\n",
    "\n",
    "reviews.date → Date when the review was posted.\n",
    "\n",
    "reviews.doRecommend → Whether the reviewer recommends the product (Yes/No).\n",
    "\n",
    "eviews.numHelpful → Number of users who found the review helpful.\n",
    "\n",
    "reviews.rating → Star rating given by the reviewer (1 to 5).\n",
    "\n",
    "reviews.sourceURLs → URL of the original review page.\n",
    "\n",
    "reviews.text → Full text of the review (Main feature for sentiment analysis).\n",
    "\n",
    "reviews.title → Title of the review (Summary of the review).\n",
    "\n",
    "reviews.username → Username of the reviewer.\n",
    "\n",
    "reviews.userCity → City of the reviewer (Mostly missing).\n",
    "\n",
    "reviews.userProvince → Province of the reviewer (Mostly missing).\n",
    "\n",
    "sizes → Available sizes of the product (Mostly empty).\n",
    "\n",
    "upc → Universal Product Code (UPC).\n",
    "                                        \n",
    "weight → Weight of the product."
   ]
  },
  {
   "cell_type": "markdown",
   "id": "21ce1392-4ee4-40e1-b587-d2b34fb266ef",
   "metadata": {},
   "source": [
    "### 2.1 Exploring The Dataset\n",
    "Here we will explore the dataset by:\n",
    "\n",
    "- Asserting the shape of the dataset\n",
    "- Checking the statistical distribution for numeric columns\n",
    "- Exploring the data type for each column\n"
   ]
  },
  {
   "cell_type": "code",
   "execution_count": 68,
   "id": "1b8874f1-0005-4c3e-b0c3-426ec3f95755",
   "metadata": {},
   "outputs": [],
   "source": [
    "##import the relevant libraries\n",
    "import pandas as pd\n",
    "import numpy as np\n",
    "import seaborn as sns\n",
    "import matplotlib.pyplot as plt\n",
    "import re\n",
    "\n",
    "from nltk.corpus import stopwords\n",
    "from nltk.stem.porter import PorterStemmer\n",
    "from sklearn.feature_extraction.text import TfidfVectorizer\n",
    "from sklearn.model_selection import train_test_split\n",
    "from sklearn.linear_model import LogisticRegression\n",
    "from sklearn.metrics import accuracy_score\n",
    "from sklearn.metrics import roc_curve, auc\n",
    "pd.set_option('display.max_colwidth', None)\n",
    "\n",
    "import warnings\n",
    "warnings.filterwarnings(\"ignore\")\n"
   ]
  },
  {
   "cell_type": "code",
   "execution_count": 69,
   "id": "4a5a83d7-8a10-4d8f-b014-bd297a500741",
   "metadata": {},
   "outputs": [],
   "source": [
    "#Loading the dataset\n",
    "df = pd.read_csv('Amazon Reviews.csv')"
   ]
  },
  {
   "cell_type": "code",
   "execution_count": 70,
   "id": "b97c78f5-1b81-48ea-856b-df0c953cd02c",
   "metadata": {},
   "outputs": [
    {
     "data": {
      "text/html": [
       "<div>\n",
       "<style scoped>\n",
       "    .dataframe tbody tr th:only-of-type {\n",
       "        vertical-align: middle;\n",
       "    }\n",
       "\n",
       "    .dataframe tbody tr th {\n",
       "        vertical-align: top;\n",
       "    }\n",
       "\n",
       "    .dataframe thead th {\n",
       "        text-align: right;\n",
       "    }\n",
       "</style>\n",
       "<table border=\"1\" class=\"dataframe\">\n",
       "  <thead>\n",
       "    <tr style=\"text-align: right;\">\n",
       "      <th></th>\n",
       "      <th>id</th>\n",
       "      <th>asins</th>\n",
       "      <th>brand</th>\n",
       "      <th>categories</th>\n",
       "      <th>colors</th>\n",
       "      <th>dateAdded</th>\n",
       "      <th>dateUpdated</th>\n",
       "      <th>dimension</th>\n",
       "      <th>ean</th>\n",
       "      <th>keys</th>\n",
       "      <th>...</th>\n",
       "      <th>reviews.rating</th>\n",
       "      <th>reviews.sourceURLs</th>\n",
       "      <th>reviews.text</th>\n",
       "      <th>reviews.title</th>\n",
       "      <th>reviews.userCity</th>\n",
       "      <th>reviews.userProvince</th>\n",
       "      <th>reviews.username</th>\n",
       "      <th>sizes</th>\n",
       "      <th>upc</th>\n",
       "      <th>weight</th>\n",
       "    </tr>\n",
       "  </thead>\n",
       "  <tbody>\n",
       "    <tr>\n",
       "      <th>0</th>\n",
       "      <td>AVpe7AsMilAPnD_xQ78G</td>\n",
       "      <td>B00QJDU3KY</td>\n",
       "      <td>Amazon</td>\n",
       "      <td>Amazon Devices,mazon.co.uk</td>\n",
       "      <td>NaN</td>\n",
       "      <td>2016-03-08T20:21:53Z</td>\n",
       "      <td>2017-07-18T23:52:58Z</td>\n",
       "      <td>169 mm x 117 mm x 9.1 mm</td>\n",
       "      <td>NaN</td>\n",
       "      <td>kindlepaperwhite/b00qjdu3ky</td>\n",
       "      <td>...</td>\n",
       "      <td>5.0</td>\n",
       "      <td>https://www.amazon.com/Kindle-Paperwhite-High-Resolution-Display-Built/dp/B00QJDU3KY/ref=lp_6669702011_1_7/132-1677641-8459202?s=amazon-devices&amp;ie=UTF8&amp;qid=1498832761&amp;sr=1-7</td>\n",
       "      <td>I initially had trouble deciding between the paperwhite and the voyage because reviews more or less said the same thing: the paperwhite is great, but if you have spending money, go for the voyage.Fortunately, I had friends who owned each, so I ended up buying the paperwhite on this basis: both models now have 300 ppi, so the 80 dollar jump turns out pricey the voyage's page press isn't always sensitive, and if you are fine with a specific setting, you don't need auto light adjustment).It's been a week and I am loving my paperwhite, no regrets! The touch screen is receptive and easy to use, and I keep the light at a specific setting regardless of the time of day. (In any case, it's not hard to change the setting either, as you'll only be changing the light level at a certain time of day, not every now and then while reading).Also glad that I went for the international shipping option with Amazon. Extra expense, but delivery was on time, with tracking, and I didnt need to worry about customs, which I may have if I used a third party shipping service.</td>\n",
       "      <td>Paperwhite voyage, no regrets!</td>\n",
       "      <td>NaN</td>\n",
       "      <td>NaN</td>\n",
       "      <td>Cristina M</td>\n",
       "      <td>NaN</td>\n",
       "      <td>NaN</td>\n",
       "      <td>205 grams</td>\n",
       "    </tr>\n",
       "    <tr>\n",
       "      <th>1</th>\n",
       "      <td>AVpe7AsMilAPnD_xQ78G</td>\n",
       "      <td>B00QJDU3KY</td>\n",
       "      <td>Amazon</td>\n",
       "      <td>Amazon Devices,mazon.co.uk</td>\n",
       "      <td>NaN</td>\n",
       "      <td>2016-03-08T20:21:53Z</td>\n",
       "      <td>2017-07-18T23:52:58Z</td>\n",
       "      <td>169 mm x 117 mm x 9.1 mm</td>\n",
       "      <td>NaN</td>\n",
       "      <td>kindlepaperwhite/b00qjdu3ky</td>\n",
       "      <td>...</td>\n",
       "      <td>5.0</td>\n",
       "      <td>https://www.amazon.com/Kindle-Paperwhite-High-Resolution-Display-Built/dp/B00QJDU3KY/ref=lp_6669702011_1_7/132-1677641-8459202?s=amazon-devices&amp;ie=UTF8&amp;qid=1498832761&amp;sr=1-7</td>\n",
       "      <td>Allow me to preface this with a little history. I am (was) a casual reader who owned a Nook Simple Touch from 2011. I've read the Harry Potter series, Girl with the Dragon Tattoo series, 1984, Brave New World, and a few other key titles. Fair to say my Nook did not get as much use as many others may have gotten from theirs.Fast forward to today. I have had a full week with my new Kindle Paperwhite and I have to admit, I'm in love. Not just with the Kindle, but with reading all over again! Now let me relate this review, love, and reading all back to the Kindle. The investment of 139.00 is in the experience you will receive when you buy a Kindle. You are not simply paying for a screen there is an entire experience included in buying from Amazon.I have been reading The Hunger Games trilogy and shall be moving onto the Divergent series soon after. Here is the thing with the Nook that hindered me for the past 4 years: I was never inspired to pick it up, get it into my hands, and just dive in. There was never that feeling of oh man, reading on this thing is so awesome. However, with my Paperwhite, I now have that feeling! That desire is back and I simply adore my Kindle. If you are considering purchasing one, stop thinking about it simply go for it. After a full week, 3 downloaded books, and a ton of reading, I still have half of my battery left as well.Make yourself happy. Inspire the reader inside of you.</td>\n",
       "      <td>One Simply Could Not Ask For More</td>\n",
       "      <td>NaN</td>\n",
       "      <td>NaN</td>\n",
       "      <td>Ricky</td>\n",
       "      <td>NaN</td>\n",
       "      <td>NaN</td>\n",
       "      <td>205 grams</td>\n",
       "    </tr>\n",
       "    <tr>\n",
       "      <th>2</th>\n",
       "      <td>AVpe7AsMilAPnD_xQ78G</td>\n",
       "      <td>B00QJDU3KY</td>\n",
       "      <td>Amazon</td>\n",
       "      <td>Amazon Devices,mazon.co.uk</td>\n",
       "      <td>NaN</td>\n",
       "      <td>2016-03-08T20:21:53Z</td>\n",
       "      <td>2017-07-18T23:52:58Z</td>\n",
       "      <td>169 mm x 117 mm x 9.1 mm</td>\n",
       "      <td>NaN</td>\n",
       "      <td>kindlepaperwhite/b00qjdu3ky</td>\n",
       "      <td>...</td>\n",
       "      <td>4.0</td>\n",
       "      <td>https://www.amazon.com/Kindle-Paperwhite-High-Resolution-Display-Built/dp/B00QJDU3KY/ref=lp_6669702011_1_7/132-1677641-8459202?s=amazon-devices&amp;ie=UTF8&amp;qid=1498832761&amp;sr=1-7</td>\n",
       "      <td>I am enjoying it so far. Great for reading. Had the original Fire since 2012. The Fire used to make my eyes hurt if I read too long. Haven't experienced that with the Paperwhite yet.</td>\n",
       "      <td>Great for those that just want an e-reader</td>\n",
       "      <td>NaN</td>\n",
       "      <td>NaN</td>\n",
       "      <td>Tedd Gardiner</td>\n",
       "      <td>NaN</td>\n",
       "      <td>NaN</td>\n",
       "      <td>205 grams</td>\n",
       "    </tr>\n",
       "    <tr>\n",
       "      <th>3</th>\n",
       "      <td>AVpe7AsMilAPnD_xQ78G</td>\n",
       "      <td>B00QJDU3KY</td>\n",
       "      <td>Amazon</td>\n",
       "      <td>Amazon Devices,mazon.co.uk</td>\n",
       "      <td>NaN</td>\n",
       "      <td>2016-03-08T20:21:53Z</td>\n",
       "      <td>2017-07-18T23:52:58Z</td>\n",
       "      <td>169 mm x 117 mm x 9.1 mm</td>\n",
       "      <td>NaN</td>\n",
       "      <td>kindlepaperwhite/b00qjdu3ky</td>\n",
       "      <td>...</td>\n",
       "      <td>5.0</td>\n",
       "      <td>https://www.amazon.com/Kindle-Paperwhite-High-Resolution-Display-Built/dp/B00QJDU3KY/ref=lp_6669702011_1_7/132-1677641-8459202?s=amazon-devices&amp;ie=UTF8&amp;qid=1498832761&amp;sr=1-7</td>\n",
       "      <td>I bought one of the first Paperwhites and have been very pleased with it its been a constant companion and I suppose Ive read, on average, a book every three days for the past however many years on it. I wouldnt give it up youd have to pry it from my cold dead fingers.For sundry logistical reasons, Ive also made good use of Amazons Kindle app on my iPhone. No Paperwhite screen, naturally, and all the cool usability that delivers, but it works well and has its own attractions as a companion to the Kindle.Of course, there are aspects of the Paperwhite which I would like to critique. Ah you knew that was coming somewhere, didnt you.As a member of BookBub, I get a daily list of alerts and book deals in my chosen genres. I take on many of them, however, Ive found that, even with the best will in the world, I cant keep up. Some days it seems that for every book I read, Ive bought two. Theres just so much good stuff out there! The accumulative effect of this is that the number of books actually on my Paperwhite has been creeping ever upward for some time. Its now at about 400.With this in mind, Ive noticed that while page-turning has remained exactly the same, just about every other action on the Kindle has become positively glacial. Not just very slow, but so slow you think its malfunctioning. The general consensus appears to be that its to be expected once one has that many books downloaded onto a Kindle, it will begin to behave in a flakey manner. This drives me mad. Amazon states it can hold thousands of books. I believe them. But I figure I would need a second Paperwhite to read while Im waiting for actions to complete on the first one.Read more</td>\n",
       "      <td>Love / Hate relationship</td>\n",
       "      <td>NaN</td>\n",
       "      <td>NaN</td>\n",
       "      <td>Dougal</td>\n",
       "      <td>NaN</td>\n",
       "      <td>NaN</td>\n",
       "      <td>205 grams</td>\n",
       "    </tr>\n",
       "    <tr>\n",
       "      <th>4</th>\n",
       "      <td>AVpe7AsMilAPnD_xQ78G</td>\n",
       "      <td>B00QJDU3KY</td>\n",
       "      <td>Amazon</td>\n",
       "      <td>Amazon Devices,mazon.co.uk</td>\n",
       "      <td>NaN</td>\n",
       "      <td>2016-03-08T20:21:53Z</td>\n",
       "      <td>2017-07-18T23:52:58Z</td>\n",
       "      <td>169 mm x 117 mm x 9.1 mm</td>\n",
       "      <td>NaN</td>\n",
       "      <td>kindlepaperwhite/b00qjdu3ky</td>\n",
       "      <td>...</td>\n",
       "      <td>5.0</td>\n",
       "      <td>https://www.amazon.com/Kindle-Paperwhite-High-Resolution-Display-Built/dp/B00QJDU3KY/ref=lp_6669702011_1_7/132-1677641-8459202?s=amazon-devices&amp;ie=UTF8&amp;qid=1498832761&amp;sr=1-7</td>\n",
       "      <td>I have to say upfront - I don't like coroporate, hermetically closed stuff like anything by Apple or in this case, Amazon. I like having devices on which I can put anything I want and use it. But...I was a fairly happy user of a Nook Touch for several years, but couldn't use all its functionalities since I live in Serbia. Then I lost the Nook and since no other devices can actually be fully used in Serbia (buying books with them, using their online capabilities) except the Kindle, and since no one except Amazon ships to Serbia, and since I've actually been a happy Amazon customer since 2005 over friends' accounts and since 2007 through my own, and since the Kindle definitely has the best technology - why not buy itSo I did. What I read in many reviews about the screen/light of the Paperwhite and similar devices was no problem with mine. The light disperses just fine, except a few black blotches (maybe you can see it in the picture) at the bottom of the screen, which are actually shadows of the black plastic casing and thus can't really be avoided. As you can see in the picture without the light - there are no blotches with light out.The Paperwhite's screen is just marvelous at 300 ppi, the touchscreen works just fine, the store works here in Serbia, and in these two days I've been using it, I'm a happy guy.I had to get the hang on how to make sideloaded books behave at least almost like Amazon books, but that's fine. That's the one thing I'd like to see Amazon do in some future upgrades: make the Kindle treat sideloaded books just like the ones bought from them directly, with sharing funcion (quotes and Goodreads) enabled and so on.The size is perfect, it sits very well in the hand, the light doesn't hurt the eyes in the dark (like the light on a tab does)... the packaging was fine, no problems there and what remains to be seen now is the battery life.So far, I can only recommend it.</td>\n",
       "      <td>I LOVE IT</td>\n",
       "      <td>NaN</td>\n",
       "      <td>NaN</td>\n",
       "      <td>Miljan David Tanic</td>\n",
       "      <td>NaN</td>\n",
       "      <td>NaN</td>\n",
       "      <td>205 grams</td>\n",
       "    </tr>\n",
       "  </tbody>\n",
       "</table>\n",
       "<p>5 rows × 27 columns</p>\n",
       "</div>"
      ],
      "text/plain": [
       "                     id       asins   brand                  categories  \\\n",
       "0  AVpe7AsMilAPnD_xQ78G  B00QJDU3KY  Amazon  Amazon Devices,mazon.co.uk   \n",
       "1  AVpe7AsMilAPnD_xQ78G  B00QJDU3KY  Amazon  Amazon Devices,mazon.co.uk   \n",
       "2  AVpe7AsMilAPnD_xQ78G  B00QJDU3KY  Amazon  Amazon Devices,mazon.co.uk   \n",
       "3  AVpe7AsMilAPnD_xQ78G  B00QJDU3KY  Amazon  Amazon Devices,mazon.co.uk   \n",
       "4  AVpe7AsMilAPnD_xQ78G  B00QJDU3KY  Amazon  Amazon Devices,mazon.co.uk   \n",
       "\n",
       "  colors             dateAdded           dateUpdated  \\\n",
       "0    NaN  2016-03-08T20:21:53Z  2017-07-18T23:52:58Z   \n",
       "1    NaN  2016-03-08T20:21:53Z  2017-07-18T23:52:58Z   \n",
       "2    NaN  2016-03-08T20:21:53Z  2017-07-18T23:52:58Z   \n",
       "3    NaN  2016-03-08T20:21:53Z  2017-07-18T23:52:58Z   \n",
       "4    NaN  2016-03-08T20:21:53Z  2017-07-18T23:52:58Z   \n",
       "\n",
       "                  dimension  ean                         keys  ...  \\\n",
       "0  169 mm x 117 mm x 9.1 mm  NaN  kindlepaperwhite/b00qjdu3ky  ...   \n",
       "1  169 mm x 117 mm x 9.1 mm  NaN  kindlepaperwhite/b00qjdu3ky  ...   \n",
       "2  169 mm x 117 mm x 9.1 mm  NaN  kindlepaperwhite/b00qjdu3ky  ...   \n",
       "3  169 mm x 117 mm x 9.1 mm  NaN  kindlepaperwhite/b00qjdu3ky  ...   \n",
       "4  169 mm x 117 mm x 9.1 mm  NaN  kindlepaperwhite/b00qjdu3ky  ...   \n",
       "\n",
       "  reviews.rating  \\\n",
       "0            5.0   \n",
       "1            5.0   \n",
       "2            4.0   \n",
       "3            5.0   \n",
       "4            5.0   \n",
       "\n",
       "                                                                                                                                                              reviews.sourceURLs  \\\n",
       "0  https://www.amazon.com/Kindle-Paperwhite-High-Resolution-Display-Built/dp/B00QJDU3KY/ref=lp_6669702011_1_7/132-1677641-8459202?s=amazon-devices&ie=UTF8&qid=1498832761&sr=1-7   \n",
       "1  https://www.amazon.com/Kindle-Paperwhite-High-Resolution-Display-Built/dp/B00QJDU3KY/ref=lp_6669702011_1_7/132-1677641-8459202?s=amazon-devices&ie=UTF8&qid=1498832761&sr=1-7   \n",
       "2  https://www.amazon.com/Kindle-Paperwhite-High-Resolution-Display-Built/dp/B00QJDU3KY/ref=lp_6669702011_1_7/132-1677641-8459202?s=amazon-devices&ie=UTF8&qid=1498832761&sr=1-7   \n",
       "3  https://www.amazon.com/Kindle-Paperwhite-High-Resolution-Display-Built/dp/B00QJDU3KY/ref=lp_6669702011_1_7/132-1677641-8459202?s=amazon-devices&ie=UTF8&qid=1498832761&sr=1-7   \n",
       "4  https://www.amazon.com/Kindle-Paperwhite-High-Resolution-Display-Built/dp/B00QJDU3KY/ref=lp_6669702011_1_7/132-1677641-8459202?s=amazon-devices&ie=UTF8&qid=1498832761&sr=1-7   \n",
       "\n",
       "                                                                                                                                                                                                                                                                                                                                                                                                                                                                                                                                                                                                                                                                                                                                                                                                                                                                                                                                                                                                                                                                                                                                                                                                                                                                                                                                                                                                                                                                                                                                                                                                                                                                                                                                                                                                                                                                                                                                                                                   reviews.text  \\\n",
       "0                                                                                                                                                                                                                                                                                                                                                                                                                                                                                                                                                                                                                                                                                                                                                                                                                                                                                      I initially had trouble deciding between the paperwhite and the voyage because reviews more or less said the same thing: the paperwhite is great, but if you have spending money, go for the voyage.Fortunately, I had friends who owned each, so I ended up buying the paperwhite on this basis: both models now have 300 ppi, so the 80 dollar jump turns out pricey the voyage's page press isn't always sensitive, and if you are fine with a specific setting, you don't need auto light adjustment).It's been a week and I am loving my paperwhite, no regrets! The touch screen is receptive and easy to use, and I keep the light at a specific setting regardless of the time of day. (In any case, it's not hard to change the setting either, as you'll only be changing the light level at a certain time of day, not every now and then while reading).Also glad that I went for the international shipping option with Amazon. Extra expense, but delivery was on time, with tracking, and I didnt need to worry about customs, which I may have if I used a third party shipping service.   \n",
       "1                                                                                                                                                                                                                                                                                                                                                                                                                                                                                                              Allow me to preface this with a little history. I am (was) a casual reader who owned a Nook Simple Touch from 2011. I've read the Harry Potter series, Girl with the Dragon Tattoo series, 1984, Brave New World, and a few other key titles. Fair to say my Nook did not get as much use as many others may have gotten from theirs.Fast forward to today. I have had a full week with my new Kindle Paperwhite and I have to admit, I'm in love. Not just with the Kindle, but with reading all over again! Now let me relate this review, love, and reading all back to the Kindle. The investment of 139.00 is in the experience you will receive when you buy a Kindle. You are not simply paying for a screen there is an entire experience included in buying from Amazon.I have been reading The Hunger Games trilogy and shall be moving onto the Divergent series soon after. Here is the thing with the Nook that hindered me for the past 4 years: I was never inspired to pick it up, get it into my hands, and just dive in. There was never that feeling of oh man, reading on this thing is so awesome. However, with my Paperwhite, I now have that feeling! That desire is back and I simply adore my Kindle. If you are considering purchasing one, stop thinking about it simply go for it. After a full week, 3 downloaded books, and a ton of reading, I still have half of my battery left as well.Make yourself happy. Inspire the reader inside of you.   \n",
       "2                                                                                                                                                                                                                                                                                                                                                                                                                                                                                                                                                                                                                                                                                                                                                                                                                                                                                                                                                                                                                                                                                                                                                                                                                                                                                                                                                                                                                                                                                                                                                                                                                                                                                                                                                                                                        I am enjoying it so far. Great for reading. Had the original Fire since 2012. The Fire used to make my eyes hurt if I read too long. Haven't experienced that with the Paperwhite yet.   \n",
       "3                                                                                                                                                                                                                                                       I bought one of the first Paperwhites and have been very pleased with it its been a constant companion and I suppose Ive read, on average, a book every three days for the past however many years on it. I wouldnt give it up youd have to pry it from my cold dead fingers.For sundry logistical reasons, Ive also made good use of Amazons Kindle app on my iPhone. No Paperwhite screen, naturally, and all the cool usability that delivers, but it works well and has its own attractions as a companion to the Kindle.Of course, there are aspects of the Paperwhite which I would like to critique. Ah you knew that was coming somewhere, didnt you.As a member of BookBub, I get a daily list of alerts and book deals in my chosen genres. I take on many of them, however, Ive found that, even with the best will in the world, I cant keep up. Some days it seems that for every book I read, Ive bought two. Theres just so much good stuff out there! The accumulative effect of this is that the number of books actually on my Paperwhite has been creeping ever upward for some time. Its now at about 400.With this in mind, Ive noticed that while page-turning has remained exactly the same, just about every other action on the Kindle has become positively glacial. Not just very slow, but so slow you think its malfunctioning. The general consensus appears to be that its to be expected once one has that many books downloaded onto a Kindle, it will begin to behave in a flakey manner. This drives me mad. Amazon states it can hold thousands of books. I believe them. But I figure I would need a second Paperwhite to read while Im waiting for actions to complete on the first one.Read more   \n",
       "4  I have to say upfront - I don't like coroporate, hermetically closed stuff like anything by Apple or in this case, Amazon. I like having devices on which I can put anything I want and use it. But...I was a fairly happy user of a Nook Touch for several years, but couldn't use all its functionalities since I live in Serbia. Then I lost the Nook and since no other devices can actually be fully used in Serbia (buying books with them, using their online capabilities) except the Kindle, and since no one except Amazon ships to Serbia, and since I've actually been a happy Amazon customer since 2005 over friends' accounts and since 2007 through my own, and since the Kindle definitely has the best technology - why not buy itSo I did. What I read in many reviews about the screen/light of the Paperwhite and similar devices was no problem with mine. The light disperses just fine, except a few black blotches (maybe you can see it in the picture) at the bottom of the screen, which are actually shadows of the black plastic casing and thus can't really be avoided. As you can see in the picture without the light - there are no blotches with light out.The Paperwhite's screen is just marvelous at 300 ppi, the touchscreen works just fine, the store works here in Serbia, and in these two days I've been using it, I'm a happy guy.I had to get the hang on how to make sideloaded books behave at least almost like Amazon books, but that's fine. That's the one thing I'd like to see Amazon do in some future upgrades: make the Kindle treat sideloaded books just like the ones bought from them directly, with sharing funcion (quotes and Goodreads) enabled and so on.The size is perfect, it sits very well in the hand, the light doesn't hurt the eyes in the dark (like the light on a tab does)... the packaging was fine, no problems there and what remains to be seen now is the battery life.So far, I can only recommend it.   \n",
       "\n",
       "                                reviews.title reviews.userCity  \\\n",
       "0              Paperwhite voyage, no regrets!              NaN   \n",
       "1           One Simply Could Not Ask For More              NaN   \n",
       "2  Great for those that just want an e-reader              NaN   \n",
       "3                    Love / Hate relationship              NaN   \n",
       "4                                   I LOVE IT              NaN   \n",
       "\n",
       "  reviews.userProvince    reviews.username  sizes upc     weight  \n",
       "0                  NaN          Cristina M    NaN NaN  205 grams  \n",
       "1                  NaN               Ricky    NaN NaN  205 grams  \n",
       "2                  NaN       Tedd Gardiner    NaN NaN  205 grams  \n",
       "3                  NaN              Dougal    NaN NaN  205 grams  \n",
       "4                  NaN  Miljan David Tanic    NaN NaN  205 grams  \n",
       "\n",
       "[5 rows x 27 columns]"
      ]
     },
     "execution_count": 70,
     "metadata": {},
     "output_type": "execute_result"
    }
   ],
   "source": [
    "df.head()"
   ]
  },
  {
   "cell_type": "code",
   "execution_count": 71,
   "id": "57a7e95b-6912-4d67-9b1e-c9d9cda4fd3c",
   "metadata": {},
   "outputs": [
    {
     "data": {
      "text/html": [
       "<div>\n",
       "<style scoped>\n",
       "    .dataframe tbody tr th:only-of-type {\n",
       "        vertical-align: middle;\n",
       "    }\n",
       "\n",
       "    .dataframe tbody tr th {\n",
       "        vertical-align: top;\n",
       "    }\n",
       "\n",
       "    .dataframe thead th {\n",
       "        text-align: right;\n",
       "    }\n",
       "</style>\n",
       "<table border=\"1\" class=\"dataframe\">\n",
       "  <thead>\n",
       "    <tr style=\"text-align: right;\">\n",
       "      <th></th>\n",
       "      <th>id</th>\n",
       "      <th>asins</th>\n",
       "      <th>brand</th>\n",
       "      <th>categories</th>\n",
       "      <th>colors</th>\n",
       "      <th>dateAdded</th>\n",
       "      <th>dateUpdated</th>\n",
       "      <th>dimension</th>\n",
       "      <th>ean</th>\n",
       "      <th>keys</th>\n",
       "      <th>...</th>\n",
       "      <th>reviews.rating</th>\n",
       "      <th>reviews.sourceURLs</th>\n",
       "      <th>reviews.text</th>\n",
       "      <th>reviews.title</th>\n",
       "      <th>reviews.userCity</th>\n",
       "      <th>reviews.userProvince</th>\n",
       "      <th>reviews.username</th>\n",
       "      <th>sizes</th>\n",
       "      <th>upc</th>\n",
       "      <th>weight</th>\n",
       "    </tr>\n",
       "  </thead>\n",
       "  <tbody>\n",
       "    <tr>\n",
       "      <th>1592</th>\n",
       "      <td>AVpfo9ukilAPnD_xfhuj</td>\n",
       "      <td>B00NO8JJZW</td>\n",
       "      <td>Amazon</td>\n",
       "      <td>Amazon Devices &amp; Accessories,Amazon Device Accessories,Controllers &amp; Remote Controls,Kindle Store,Fire TV Accessories,Controllers &amp; Remotes,Controllers</td>\n",
       "      <td>NaN</td>\n",
       "      <td>2016-04-02T14:40:43Z</td>\n",
       "      <td>2017-08-13T08:28:46Z</td>\n",
       "      <td>NaN</td>\n",
       "      <td>NaN</td>\n",
       "      <td>alexavoiceremoteforamazonfiretvfiretvstick/b00no8jjzw,amazon/dr49wk,voiceremoteforamazonfiretvfiretvstick/b00no8jjzw</td>\n",
       "      <td>...</td>\n",
       "      <td>3.0</td>\n",
       "      <td>https://www.amazon.com/Alexa-Voice-Remote-Amazon-Stick/dp/B00NO8JJZW/ref=sr_1_27/135-1292226-5659745?s=fiona-hardware&amp;ie=UTF8&amp;qid=1500945241&amp;sr=1-27,https://www.amazon.com/Alexa-Voice-Remote-Amazon-Stick/dp/B00NO8JJZW/ref=sr_1_27/132-5615145-9127409?s=fiona-hardware&amp;ie=UTF8&amp;qid=1500945236&amp;sr=1-27,https://www.amazon.com/Alexa-Voice-Remote-Amazon-Stick/dp/B00NO8JJZW/ref=sr_1_27/145-4639212-6106769?s=fiona-hardware&amp;ie=UTF8&amp;qid=1500944910&amp;sr=1-27,https://www.amazon.com/Alexa-Voice-Remote-Amazon-Stick/dp/B00NO8JJZW/ref=sr_1_27/141-0458241-2772141?s=fiona-hardware&amp;ie=UTF8&amp;qid=1500944904&amp;sr=1-27</td>\n",
       "      <td>This is not the same remote that I got for my Alexa-Echo it doesn't control volume.... I think remotes most used feature is volume and pause. I would be disappointed with myself if i produced a remote that couldn't control volume. That would make me an incompetent engineer or lazy CEO!!! Amazon I expect better from you!!!</td>\n",
       "      <td>I would be disappointed with myself if i produced a remote that couldn't ...</td>\n",
       "      <td>NaN</td>\n",
       "      <td>NaN</td>\n",
       "      <td>GregAmandawith4</td>\n",
       "      <td>NaN</td>\n",
       "      <td>NaN</td>\n",
       "      <td>4 ounces</td>\n",
       "    </tr>\n",
       "    <tr>\n",
       "      <th>1593</th>\n",
       "      <td>AVpfo9ukilAPnD_xfhuj</td>\n",
       "      <td>B00NO8JJZW</td>\n",
       "      <td>Amazon</td>\n",
       "      <td>Amazon Devices &amp; Accessories,Amazon Device Accessories,Controllers &amp; Remote Controls,Kindle Store,Fire TV Accessories,Controllers &amp; Remotes,Controllers</td>\n",
       "      <td>NaN</td>\n",
       "      <td>2016-04-02T14:40:43Z</td>\n",
       "      <td>2017-08-13T08:28:46Z</td>\n",
       "      <td>NaN</td>\n",
       "      <td>NaN</td>\n",
       "      <td>alexavoiceremoteforamazonfiretvfiretvstick/b00no8jjzw,amazon/dr49wk,voiceremoteforamazonfiretvfiretvstick/b00no8jjzw</td>\n",
       "      <td>...</td>\n",
       "      <td>1.0</td>\n",
       "      <td>https://www.amazon.com/Alexa-Voice-Remote-Amazon-Stick/dp/B00NO8JJZW/ref=sr_1_20/130-3302769-4285400?s=fiona-hardware&amp;ie=UTF8&amp;qid=1500428950&amp;sr=1-20,https://www.amazon.com/Alexa-Voice-Remote-Amazon-Stick/dp/B00NO8JJZW/ref=lp_370783011_1_6/146-6711310-1289856?s=fiona-hardware&amp;ie=UTF8&amp;qid=1498832641&amp;sr=1-6,https://www.amazon.com/Alexa-Voice-Remote-Amazon-Stick/dp/B00NO8JJZW/ref=lp_370783011_1_5/132-1677641-8459202?s=fiona-hardware&amp;ie=UTF8&amp;qid=1498832572&amp;sr=1-5,https://www.amazon.com/Alexa-Voice-Remote-Amazon-Stick/dp/B00NO8JJZW/ref=lp_370783011_1_5/144-2862518-0215137?s=fiona-hardware&amp;ie=UTF8&amp;qid=1498832572&amp;sr=1-5,https://www.amazon.com/Alexa-Voice-Remote-Amazon-Stick/dp/B00NO8JJZW/ref=lp_370783011_1_4/132-1677641-8459202?s=fiona-hardware&amp;ie=UTF8&amp;qid=1498827093&amp;sr=1-4,https://www.amazon.com/Alexa-Voice-Remote-Amazon-Stick/dp/B00NO8JJZW/ref=lp_370783011_1_5/147-4487395-0624402?s=fiona-hardware&amp;ie=UTF8&amp;qid=1498827226&amp;sr=1-5,https://www.amazon.com/Alexa-Voice-Remote-Amazon-Stick/dp/B00NO8JJZW/ref=lp_370783011_1_4/132-6827770-3059607?s=fiona-hardware&amp;ie=UTF8&amp;qid=1498827212&amp;sr=1-4,https://www.amazon.com/Alexa-Voice-Remote-Amazon-Stick/dp/B00NO8JJZW/ref=lp_370783011_1_5/147-6658258-8116630?s=fiona-hardware&amp;ie=UTF8&amp;qid=1498827225&amp;sr=1-5,https://www.amazon.com/Alexa-Voice-Remote-Amazon-Stick/dp/B00NO8JJZW/ref=lp_370783011_1_5/141-8903483-8622516?s=fiona-hardware&amp;ie=UTF8&amp;qid=1498827213&amp;sr=1-5,https://www.amazon.com/Alexa-Voice-Remote-Amazon-Stick/dp/B00NO8JJZW/ref=lp_370783011_1_4/132-6827770-3059607?s=fiona-hardware&amp;ie=UTF8&amp;qid=1498826883&amp;sr=1-4,https://www.amazon.com/Alexa-Voice-Remote-Amazon-Stick/dp/B00NO8JJZW/ref=lp_370783011_1_5/147-6658258-8116630?s=fiona-hardware&amp;ie=UTF8&amp;qid=1498826883&amp;sr=1-5,https://www.amazon.com/Alexa-Voice-Remote-Amazon-Stick/dp/B00NO8JJZW/ref=sr_1_13/134-4316275-0880135?s=fiona-hardware&amp;ie=UTF8&amp;qid=1497291931&amp;sr=1-13,https://www.amazon.com/Alexa-Voice-Remote-Amazon-Stick/dp/B00NO8JJZW/ref=sr_1_18/136-1579861-6822330?s=fiona-hardware&amp;ie=UTF8&amp;qid=1497291911&amp;sr=1-18</td>\n",
       "      <td>I have had to change the batteries in this remote once or twice per month since I purchased it in March. After the battery's short life span after the first battery replacement, we stopped doing any gaming with it and just used the gaming controller. It did not make a difference. It still drained the batteries just as quickly. I do have the option of using the phone app, and I do, but what if I'm not home and someone else wants to use the fire tv This is very, very poor quality product. Of course. It went out of warranty 12 days ago. I guess I should have been more mindful of that date. I do not recommend this product and I think Amazon should extend the warranty coverage. It is ridiculous that this remote basically doesn't work.</td>\n",
       "      <td>Battery draining remote!!!!</td>\n",
       "      <td>NaN</td>\n",
       "      <td>NaN</td>\n",
       "      <td>Amazon Customer</td>\n",
       "      <td>NaN</td>\n",
       "      <td>NaN</td>\n",
       "      <td>4 ounces</td>\n",
       "    </tr>\n",
       "    <tr>\n",
       "      <th>1594</th>\n",
       "      <td>AVpfo9ukilAPnD_xfhuj</td>\n",
       "      <td>B00NO8JJZW</td>\n",
       "      <td>Amazon</td>\n",
       "      <td>Amazon Devices &amp; Accessories,Amazon Device Accessories,Controllers &amp; Remote Controls,Kindle Store,Fire TV Accessories,Controllers &amp; Remotes,Controllers</td>\n",
       "      <td>NaN</td>\n",
       "      <td>2016-04-02T14:40:43Z</td>\n",
       "      <td>2017-08-13T08:28:46Z</td>\n",
       "      <td>NaN</td>\n",
       "      <td>NaN</td>\n",
       "      <td>alexavoiceremoteforamazonfiretvfiretvstick/b00no8jjzw,amazon/dr49wk,voiceremoteforamazonfiretvfiretvstick/b00no8jjzw</td>\n",
       "      <td>...</td>\n",
       "      <td>1.0</td>\n",
       "      <td>https://www.amazon.com/Alexa-Voice-Remote-Amazon-Stick/dp/B00NO8JJZW/ref=lp_370783011_1_6/146-6711310-1289856?s=fiona-hardware&amp;ie=UTF8&amp;qid=1498832641&amp;sr=1-6,https://www.amazon.com/Alexa-Voice-Remote-Amazon-Stick/dp/B00NO8JJZW/ref=lp_370783011_1_5/132-1677641-8459202?s=fiona-hardware&amp;ie=UTF8&amp;qid=1498832572&amp;sr=1-5,https://www.amazon.com/Alexa-Voice-Remote-Amazon-Stick/dp/B00NO8JJZW/ref=lp_370783011_1_5/144-2862518-0215137?s=fiona-hardware&amp;ie=UTF8&amp;qid=1498832572&amp;sr=1-5,https://www.amazon.com/Alexa-Voice-Remote-Amazon-Stick/dp/B00NO8JJZW/ref=lp_370783011_1_4/132-1677641-8459202?s=fiona-hardware&amp;ie=UTF8&amp;qid=1498827093&amp;sr=1-4,https://www.amazon.com/Alexa-Voice-Remote-Amazon-Stick/dp/B00NO8JJZW/ref=lp_370783011_1_5/147-4487395-0624402?s=fiona-hardware&amp;ie=UTF8&amp;qid=1498827226&amp;sr=1-5,https://www.amazon.com/Alexa-Voice-Remote-Amazon-Stick/dp/B00NO8JJZW/ref=lp_370783011_1_4/132-6827770-3059607?s=fiona-hardware&amp;ie=UTF8&amp;qid=1498827212&amp;sr=1-4,https://www.amazon.com/Alexa-Voice-Remote-Amazon-Stick/dp/B00NO8JJZW/ref=lp_370783011_1_5/147-6658258-8116630?s=fiona-hardware&amp;ie=UTF8&amp;qid=1498827225&amp;sr=1-5,https://www.amazon.com/Alexa-Voice-Remote-Amazon-Stick/dp/B00NO8JJZW/ref=lp_370783011_1_5/141-8903483-8622516?s=fiona-hardware&amp;ie=UTF8&amp;qid=1498827213&amp;sr=1-5,https://www.amazon.com/Alexa-Voice-Remote-Amazon-Stick/dp/B00NO8JJZW/ref=lp_370783011_1_4/132-6827770-3059607?s=fiona-hardware&amp;ie=UTF8&amp;qid=1498826883&amp;sr=1-4,https://www.amazon.com/Alexa-Voice-Remote-Amazon-Stick/dp/B00NO8JJZW/ref=lp_370783011_1_5/147-6658258-8116630?s=fiona-hardware&amp;ie=UTF8&amp;qid=1498826883&amp;sr=1-5,https://www.amazon.com/Alexa-Voice-Remote-Amazon-Stick/dp/B00NO8JJZW/ref=sr_1_13/134-4316275-0880135?s=fiona-hardware&amp;ie=UTF8&amp;qid=1497291931&amp;sr=1-13,https://www.amazon.com/Alexa-Voice-Remote-Amazon-Stick/dp/B00NO8JJZW/ref=sr_1_18/136-1579861-6822330?s=fiona-hardware&amp;ie=UTF8&amp;qid=1497291911&amp;sr=1-18</td>\n",
       "      <td>Remote did not activate, nor did it connect to box.A poorly designed remote, replacing an even worse remote. Waste of time.Ordered two items, had to pay shipping on both. They were both shipped in the same padded envelope, why double shipping charges</td>\n",
       "      <td>replacing an even worse remote. Waste of time</td>\n",
       "      <td>NaN</td>\n",
       "      <td>NaN</td>\n",
       "      <td>Amazon Customer</td>\n",
       "      <td>NaN</td>\n",
       "      <td>NaN</td>\n",
       "      <td>4 ounces</td>\n",
       "    </tr>\n",
       "    <tr>\n",
       "      <th>1595</th>\n",
       "      <td>AVpfo9ukilAPnD_xfhuj</td>\n",
       "      <td>B00NO8JJZW</td>\n",
       "      <td>Amazon</td>\n",
       "      <td>Amazon Devices &amp; Accessories,Amazon Device Accessories,Controllers &amp; Remote Controls,Kindle Store,Fire TV Accessories,Controllers &amp; Remotes,Controllers</td>\n",
       "      <td>NaN</td>\n",
       "      <td>2016-04-02T14:40:43Z</td>\n",
       "      <td>2017-08-13T08:28:46Z</td>\n",
       "      <td>NaN</td>\n",
       "      <td>NaN</td>\n",
       "      <td>alexavoiceremoteforamazonfiretvfiretvstick/b00no8jjzw,amazon/dr49wk,voiceremoteforamazonfiretvfiretvstick/b00no8jjzw</td>\n",
       "      <td>...</td>\n",
       "      <td>3.0</td>\n",
       "      <td>https://www.amazon.com/Alexa-Voice-Remote-Amazon-Stick/dp/B00NO8JJZW/ref=sr_1_40/163-6209285-8478132?s=fiona-hardware&amp;ie=UTF8&amp;qid=1485308590&amp;sr=1-40</td>\n",
       "      <td>It does the job but is super over priced. I feel like they should offer a replacement remote at a better price. I could have just spent 10 more and gotten the stick. I just think it's ridiculous to spend 32 on a remote. The product is fine. I'm just unhappy with the price.</td>\n",
       "      <td>Overpriced</td>\n",
       "      <td>NaN</td>\n",
       "      <td>NaN</td>\n",
       "      <td>Meg Ashley</td>\n",
       "      <td>NaN</td>\n",
       "      <td>NaN</td>\n",
       "      <td>4 ounces</td>\n",
       "    </tr>\n",
       "    <tr>\n",
       "      <th>1596</th>\n",
       "      <td>AVpfo9ukilAPnD_xfhuj</td>\n",
       "      <td>B00NO8JJZW</td>\n",
       "      <td>Amazon</td>\n",
       "      <td>Amazon Devices &amp; Accessories,Amazon Device Accessories,Controllers &amp; Remote Controls,Kindle Store,Fire TV Accessories,Controllers &amp; Remotes,Controllers</td>\n",
       "      <td>NaN</td>\n",
       "      <td>2016-04-02T14:40:43Z</td>\n",
       "      <td>2017-08-13T08:28:46Z</td>\n",
       "      <td>NaN</td>\n",
       "      <td>NaN</td>\n",
       "      <td>alexavoiceremoteforamazonfiretvfiretvstick/b00no8jjzw,amazon/dr49wk,voiceremoteforamazonfiretvfiretvstick/b00no8jjzw</td>\n",
       "      <td>...</td>\n",
       "      <td>1.0</td>\n",
       "      <td>https://www.amazon.com/Alexa-Voice-Remote-Amazon-Stick/dp/B00NO8JJZW/ref=sr_1_40/163-6209285-8478132?s=fiona-hardware&amp;ie=UTF8&amp;qid=1485308590&amp;sr=1-40</td>\n",
       "      <td>I ordered this item to replace the one that no longer works. The directions for the new remove state to press the home button to go to the home screen (using the existing remote which does not work) You must use your existing remote for all the following steps. The existing remote DOES NOT WORK. This is why I bought a new one. I am sending all of this crap back to amazon and canceling this Fire subscription. This has been a problem from day one and we have only had this for a few months. Not worth the money.</td>\n",
       "      <td>I am sending all of this crap back to amazon and canceling this Fire subscription</td>\n",
       "      <td>NaN</td>\n",
       "      <td>NaN</td>\n",
       "      <td>DIANE K</td>\n",
       "      <td>NaN</td>\n",
       "      <td>NaN</td>\n",
       "      <td>4 ounces</td>\n",
       "    </tr>\n",
       "  </tbody>\n",
       "</table>\n",
       "<p>5 rows × 27 columns</p>\n",
       "</div>"
      ],
      "text/plain": [
       "                        id       asins   brand  \\\n",
       "1592  AVpfo9ukilAPnD_xfhuj  B00NO8JJZW  Amazon   \n",
       "1593  AVpfo9ukilAPnD_xfhuj  B00NO8JJZW  Amazon   \n",
       "1594  AVpfo9ukilAPnD_xfhuj  B00NO8JJZW  Amazon   \n",
       "1595  AVpfo9ukilAPnD_xfhuj  B00NO8JJZW  Amazon   \n",
       "1596  AVpfo9ukilAPnD_xfhuj  B00NO8JJZW  Amazon   \n",
       "\n",
       "                                                                                                                                                   categories  \\\n",
       "1592  Amazon Devices & Accessories,Amazon Device Accessories,Controllers & Remote Controls,Kindle Store,Fire TV Accessories,Controllers & Remotes,Controllers   \n",
       "1593  Amazon Devices & Accessories,Amazon Device Accessories,Controllers & Remote Controls,Kindle Store,Fire TV Accessories,Controllers & Remotes,Controllers   \n",
       "1594  Amazon Devices & Accessories,Amazon Device Accessories,Controllers & Remote Controls,Kindle Store,Fire TV Accessories,Controllers & Remotes,Controllers   \n",
       "1595  Amazon Devices & Accessories,Amazon Device Accessories,Controllers & Remote Controls,Kindle Store,Fire TV Accessories,Controllers & Remotes,Controllers   \n",
       "1596  Amazon Devices & Accessories,Amazon Device Accessories,Controllers & Remote Controls,Kindle Store,Fire TV Accessories,Controllers & Remotes,Controllers   \n",
       "\n",
       "     colors             dateAdded           dateUpdated dimension  ean  \\\n",
       "1592    NaN  2016-04-02T14:40:43Z  2017-08-13T08:28:46Z       NaN  NaN   \n",
       "1593    NaN  2016-04-02T14:40:43Z  2017-08-13T08:28:46Z       NaN  NaN   \n",
       "1594    NaN  2016-04-02T14:40:43Z  2017-08-13T08:28:46Z       NaN  NaN   \n",
       "1595    NaN  2016-04-02T14:40:43Z  2017-08-13T08:28:46Z       NaN  NaN   \n",
       "1596    NaN  2016-04-02T14:40:43Z  2017-08-13T08:28:46Z       NaN  NaN   \n",
       "\n",
       "                                                                                                                      keys  \\\n",
       "1592  alexavoiceremoteforamazonfiretvfiretvstick/b00no8jjzw,amazon/dr49wk,voiceremoteforamazonfiretvfiretvstick/b00no8jjzw   \n",
       "1593  alexavoiceremoteforamazonfiretvfiretvstick/b00no8jjzw,amazon/dr49wk,voiceremoteforamazonfiretvfiretvstick/b00no8jjzw   \n",
       "1594  alexavoiceremoteforamazonfiretvfiretvstick/b00no8jjzw,amazon/dr49wk,voiceremoteforamazonfiretvfiretvstick/b00no8jjzw   \n",
       "1595  alexavoiceremoteforamazonfiretvfiretvstick/b00no8jjzw,amazon/dr49wk,voiceremoteforamazonfiretvfiretvstick/b00no8jjzw   \n",
       "1596  alexavoiceremoteforamazonfiretvfiretvstick/b00no8jjzw,amazon/dr49wk,voiceremoteforamazonfiretvfiretvstick/b00no8jjzw   \n",
       "\n",
       "      ... reviews.rating  \\\n",
       "1592  ...            3.0   \n",
       "1593  ...            1.0   \n",
       "1594  ...            1.0   \n",
       "1595  ...            3.0   \n",
       "1596  ...            1.0   \n",
       "\n",
       "                                                                                                                                                                                                                                                                                                                                                                                                                                                                                                                                                                                                                                                                                                                                                                                                                                                                                                                                                                                                                                                                                                                                                                                                                                                                                                                                                                                                                                                                                                                                                                                                                                                                                                                                                                                                                                                                                                                                                                                                                                                                                    reviews.sourceURLs  \\\n",
       "1592                                                                                                                                                                                                                                                                                                                                                                                                                                                                                                                                                                                                                                                                                                                                                                                                                                                                                                                                                                                                                                                                                                                                                                                                                                                                                                                                                                                                                                                                               https://www.amazon.com/Alexa-Voice-Remote-Amazon-Stick/dp/B00NO8JJZW/ref=sr_1_27/135-1292226-5659745?s=fiona-hardware&ie=UTF8&qid=1500945241&sr=1-27,https://www.amazon.com/Alexa-Voice-Remote-Amazon-Stick/dp/B00NO8JJZW/ref=sr_1_27/132-5615145-9127409?s=fiona-hardware&ie=UTF8&qid=1500945236&sr=1-27,https://www.amazon.com/Alexa-Voice-Remote-Amazon-Stick/dp/B00NO8JJZW/ref=sr_1_27/145-4639212-6106769?s=fiona-hardware&ie=UTF8&qid=1500944910&sr=1-27,https://www.amazon.com/Alexa-Voice-Remote-Amazon-Stick/dp/B00NO8JJZW/ref=sr_1_27/141-0458241-2772141?s=fiona-hardware&ie=UTF8&qid=1500944904&sr=1-27   \n",
       "1593  https://www.amazon.com/Alexa-Voice-Remote-Amazon-Stick/dp/B00NO8JJZW/ref=sr_1_20/130-3302769-4285400?s=fiona-hardware&ie=UTF8&qid=1500428950&sr=1-20,https://www.amazon.com/Alexa-Voice-Remote-Amazon-Stick/dp/B00NO8JJZW/ref=lp_370783011_1_6/146-6711310-1289856?s=fiona-hardware&ie=UTF8&qid=1498832641&sr=1-6,https://www.amazon.com/Alexa-Voice-Remote-Amazon-Stick/dp/B00NO8JJZW/ref=lp_370783011_1_5/132-1677641-8459202?s=fiona-hardware&ie=UTF8&qid=1498832572&sr=1-5,https://www.amazon.com/Alexa-Voice-Remote-Amazon-Stick/dp/B00NO8JJZW/ref=lp_370783011_1_5/144-2862518-0215137?s=fiona-hardware&ie=UTF8&qid=1498832572&sr=1-5,https://www.amazon.com/Alexa-Voice-Remote-Amazon-Stick/dp/B00NO8JJZW/ref=lp_370783011_1_4/132-1677641-8459202?s=fiona-hardware&ie=UTF8&qid=1498827093&sr=1-4,https://www.amazon.com/Alexa-Voice-Remote-Amazon-Stick/dp/B00NO8JJZW/ref=lp_370783011_1_5/147-4487395-0624402?s=fiona-hardware&ie=UTF8&qid=1498827226&sr=1-5,https://www.amazon.com/Alexa-Voice-Remote-Amazon-Stick/dp/B00NO8JJZW/ref=lp_370783011_1_4/132-6827770-3059607?s=fiona-hardware&ie=UTF8&qid=1498827212&sr=1-4,https://www.amazon.com/Alexa-Voice-Remote-Amazon-Stick/dp/B00NO8JJZW/ref=lp_370783011_1_5/147-6658258-8116630?s=fiona-hardware&ie=UTF8&qid=1498827225&sr=1-5,https://www.amazon.com/Alexa-Voice-Remote-Amazon-Stick/dp/B00NO8JJZW/ref=lp_370783011_1_5/141-8903483-8622516?s=fiona-hardware&ie=UTF8&qid=1498827213&sr=1-5,https://www.amazon.com/Alexa-Voice-Remote-Amazon-Stick/dp/B00NO8JJZW/ref=lp_370783011_1_4/132-6827770-3059607?s=fiona-hardware&ie=UTF8&qid=1498826883&sr=1-4,https://www.amazon.com/Alexa-Voice-Remote-Amazon-Stick/dp/B00NO8JJZW/ref=lp_370783011_1_5/147-6658258-8116630?s=fiona-hardware&ie=UTF8&qid=1498826883&sr=1-5,https://www.amazon.com/Alexa-Voice-Remote-Amazon-Stick/dp/B00NO8JJZW/ref=sr_1_13/134-4316275-0880135?s=fiona-hardware&ie=UTF8&qid=1497291931&sr=1-13,https://www.amazon.com/Alexa-Voice-Remote-Amazon-Stick/dp/B00NO8JJZW/ref=sr_1_18/136-1579861-6822330?s=fiona-hardware&ie=UTF8&qid=1497291911&sr=1-18   \n",
       "1594                                                                                                                                                       https://www.amazon.com/Alexa-Voice-Remote-Amazon-Stick/dp/B00NO8JJZW/ref=lp_370783011_1_6/146-6711310-1289856?s=fiona-hardware&ie=UTF8&qid=1498832641&sr=1-6,https://www.amazon.com/Alexa-Voice-Remote-Amazon-Stick/dp/B00NO8JJZW/ref=lp_370783011_1_5/132-1677641-8459202?s=fiona-hardware&ie=UTF8&qid=1498832572&sr=1-5,https://www.amazon.com/Alexa-Voice-Remote-Amazon-Stick/dp/B00NO8JJZW/ref=lp_370783011_1_5/144-2862518-0215137?s=fiona-hardware&ie=UTF8&qid=1498832572&sr=1-5,https://www.amazon.com/Alexa-Voice-Remote-Amazon-Stick/dp/B00NO8JJZW/ref=lp_370783011_1_4/132-1677641-8459202?s=fiona-hardware&ie=UTF8&qid=1498827093&sr=1-4,https://www.amazon.com/Alexa-Voice-Remote-Amazon-Stick/dp/B00NO8JJZW/ref=lp_370783011_1_5/147-4487395-0624402?s=fiona-hardware&ie=UTF8&qid=1498827226&sr=1-5,https://www.amazon.com/Alexa-Voice-Remote-Amazon-Stick/dp/B00NO8JJZW/ref=lp_370783011_1_4/132-6827770-3059607?s=fiona-hardware&ie=UTF8&qid=1498827212&sr=1-4,https://www.amazon.com/Alexa-Voice-Remote-Amazon-Stick/dp/B00NO8JJZW/ref=lp_370783011_1_5/147-6658258-8116630?s=fiona-hardware&ie=UTF8&qid=1498827225&sr=1-5,https://www.amazon.com/Alexa-Voice-Remote-Amazon-Stick/dp/B00NO8JJZW/ref=lp_370783011_1_5/141-8903483-8622516?s=fiona-hardware&ie=UTF8&qid=1498827213&sr=1-5,https://www.amazon.com/Alexa-Voice-Remote-Amazon-Stick/dp/B00NO8JJZW/ref=lp_370783011_1_4/132-6827770-3059607?s=fiona-hardware&ie=UTF8&qid=1498826883&sr=1-4,https://www.amazon.com/Alexa-Voice-Remote-Amazon-Stick/dp/B00NO8JJZW/ref=lp_370783011_1_5/147-6658258-8116630?s=fiona-hardware&ie=UTF8&qid=1498826883&sr=1-5,https://www.amazon.com/Alexa-Voice-Remote-Amazon-Stick/dp/B00NO8JJZW/ref=sr_1_13/134-4316275-0880135?s=fiona-hardware&ie=UTF8&qid=1497291931&sr=1-13,https://www.amazon.com/Alexa-Voice-Remote-Amazon-Stick/dp/B00NO8JJZW/ref=sr_1_18/136-1579861-6822330?s=fiona-hardware&ie=UTF8&qid=1497291911&sr=1-18   \n",
       "1595                                                                                                                                                                                                                                                                                                                                                                                                                                                                                                                                                                                                                                                                                                                                                                                                                                                                                                                                                                                                                                                                                                                                                                                                                                                                                                                                                                                                                                                                                                                                                                                                                                                                                                                                                                                                                                                                                                                                              https://www.amazon.com/Alexa-Voice-Remote-Amazon-Stick/dp/B00NO8JJZW/ref=sr_1_40/163-6209285-8478132?s=fiona-hardware&ie=UTF8&qid=1485308590&sr=1-40   \n",
       "1596                                                                                                                                                                                                                                                                                                                                                                                                                                                                                                                                                                                                                                                                                                                                                                                                                                                                                                                                                                                                                                                                                                                                                                                                                                                                                                                                                                                                                                                                                                                                                                                                                                                                                                                                                                                                                                                                                                                                              https://www.amazon.com/Alexa-Voice-Remote-Amazon-Stick/dp/B00NO8JJZW/ref=sr_1_40/163-6209285-8478132?s=fiona-hardware&ie=UTF8&qid=1485308590&sr=1-40   \n",
       "\n",
       "                                                                                                                                                                                                                                                                                                                                                                                                                                                                                                                                                                                                                                                                                                                                                             reviews.text  \\\n",
       "1592                                                                                                                                                                                                                                                                                                                                                                                                                                  This is not the same remote that I got for my Alexa-Echo it doesn't control volume.... I think remotes most used feature is volume and pause. I would be disappointed with myself if i produced a remote that couldn't control volume. That would make me an incompetent engineer or lazy CEO!!! Amazon I expect better from you!!!   \n",
       "1593  I have had to change the batteries in this remote once or twice per month since I purchased it in March. After the battery's short life span after the first battery replacement, we stopped doing any gaming with it and just used the gaming controller. It did not make a difference. It still drained the batteries just as quickly. I do have the option of using the phone app, and I do, but what if I'm not home and someone else wants to use the fire tv This is very, very poor quality product. Of course. It went out of warranty 12 days ago. I guess I should have been more mindful of that date. I do not recommend this product and I think Amazon should extend the warranty coverage. It is ridiculous that this remote basically doesn't work.   \n",
       "1594                                                                                                                                                                                                                                                                                                                                                                                                                                                                                                           Remote did not activate, nor did it connect to box.A poorly designed remote, replacing an even worse remote. Waste of time.Ordered two items, had to pay shipping on both. They were both shipped in the same padded envelope, why double shipping charges   \n",
       "1595                                                                                                                                                                                                                                                                                                                                                                                                                                                                                    It does the job but is super over priced. I feel like they should offer a replacement remote at a better price. I could have just spent 10 more and gotten the stick. I just think it's ridiculous to spend 32 on a remote. The product is fine. I'm just unhappy with the price.   \n",
       "1596                                                                                                                                                                                                                                    I ordered this item to replace the one that no longer works. The directions for the new remove state to press the home button to go to the home screen (using the existing remote which does not work) You must use your existing remote for all the following steps. The existing remote DOES NOT WORK. This is why I bought a new one. I am sending all of this crap back to amazon and canceling this Fire subscription. This has been a problem from day one and we have only had this for a few months. Not worth the money.   \n",
       "\n",
       "                                                                          reviews.title  \\\n",
       "1592       I would be disappointed with myself if i produced a remote that couldn't ...   \n",
       "1593                                                        Battery draining remote!!!!   \n",
       "1594                                      replacing an even worse remote. Waste of time   \n",
       "1595                                                                         Overpriced   \n",
       "1596  I am sending all of this crap back to amazon and canceling this Fire subscription   \n",
       "\n",
       "     reviews.userCity reviews.userProvince  reviews.username  sizes upc  \\\n",
       "1592              NaN                  NaN   GregAmandawith4    NaN NaN   \n",
       "1593              NaN                  NaN   Amazon Customer    NaN NaN   \n",
       "1594              NaN                  NaN   Amazon Customer    NaN NaN   \n",
       "1595              NaN                  NaN        Meg Ashley    NaN NaN   \n",
       "1596              NaN                  NaN           DIANE K    NaN NaN   \n",
       "\n",
       "        weight  \n",
       "1592  4 ounces  \n",
       "1593  4 ounces  \n",
       "1594  4 ounces  \n",
       "1595  4 ounces  \n",
       "1596  4 ounces  \n",
       "\n",
       "[5 rows x 27 columns]"
      ]
     },
     "execution_count": 71,
     "metadata": {},
     "output_type": "execute_result"
    }
   ],
   "source": [
    "df.tail()"
   ]
  },
  {
   "cell_type": "code",
   "execution_count": 72,
   "id": "97c1436e-6f19-48f8-8d5a-7c961e4e6462",
   "metadata": {},
   "outputs": [
    {
     "data": {
      "text/plain": [
       "(1597, 27)"
      ]
     },
     "execution_count": 72,
     "metadata": {},
     "output_type": "execute_result"
    }
   ],
   "source": [
    "df.shape"
   ]
  },
  {
   "cell_type": "code",
   "execution_count": 73,
   "id": "854f08ef-3363-4c69-9ab5-958a61df5455",
   "metadata": {},
   "outputs": [
    {
     "name": "stdout",
     "output_type": "stream",
     "text": [
      "<class 'pandas.core.frame.DataFrame'>\n",
      "RangeIndex: 1597 entries, 0 to 1596\n",
      "Data columns (total 27 columns):\n",
      " #   Column                Non-Null Count  Dtype  \n",
      "---  ------                --------------  -----  \n",
      " 0   id                    1597 non-null   object \n",
      " 1   asins                 1597 non-null   object \n",
      " 2   brand                 1597 non-null   object \n",
      " 3   categories            1597 non-null   object \n",
      " 4   colors                774 non-null    object \n",
      " 5   dateAdded             1597 non-null   object \n",
      " 6   dateUpdated           1597 non-null   object \n",
      " 7   dimension             565 non-null    object \n",
      " 8   ean                   898 non-null    float64\n",
      " 9   keys                  1597 non-null   object \n",
      " 10  manufacturer          965 non-null    object \n",
      " 11  manufacturerNumber    902 non-null    object \n",
      " 12  name                  1597 non-null   object \n",
      " 13  prices                1597 non-null   object \n",
      " 14  reviews.date          1217 non-null   object \n",
      " 15  reviews.doRecommend   539 non-null    object \n",
      " 16  reviews.numHelpful    900 non-null    float64\n",
      " 17  reviews.rating        1177 non-null   float64\n",
      " 18  reviews.sourceURLs    1597 non-null   object \n",
      " 19  reviews.text          1597 non-null   object \n",
      " 20  reviews.title         1580 non-null   object \n",
      " 21  reviews.userCity      0 non-null      float64\n",
      " 22  reviews.userProvince  0 non-null      float64\n",
      " 23  reviews.username      1580 non-null   object \n",
      " 24  sizes                 0 non-null      float64\n",
      " 25  upc                   898 non-null    float64\n",
      " 26  weight                686 non-null    object \n",
      "dtypes: float64(7), object(20)\n",
      "memory usage: 337.0+ KB\n"
     ]
    }
   ],
   "source": [
    "df.info()"
   ]
  },
  {
   "cell_type": "code",
   "execution_count": 74,
   "id": "d35ed0aa-9beb-4526-a7b3-22b0ff084ebb",
   "metadata": {},
   "outputs": [
    {
     "data": {
      "text/html": [
       "<div>\n",
       "<style scoped>\n",
       "    .dataframe tbody tr th:only-of-type {\n",
       "        vertical-align: middle;\n",
       "    }\n",
       "\n",
       "    .dataframe tbody tr th {\n",
       "        vertical-align: top;\n",
       "    }\n",
       "\n",
       "    .dataframe thead th {\n",
       "        text-align: right;\n",
       "    }\n",
       "</style>\n",
       "<table border=\"1\" class=\"dataframe\">\n",
       "  <thead>\n",
       "    <tr style=\"text-align: right;\">\n",
       "      <th></th>\n",
       "      <th>ean</th>\n",
       "      <th>reviews.numHelpful</th>\n",
       "      <th>reviews.rating</th>\n",
       "      <th>reviews.userCity</th>\n",
       "      <th>reviews.userProvince</th>\n",
       "      <th>sizes</th>\n",
       "      <th>upc</th>\n",
       "    </tr>\n",
       "  </thead>\n",
       "  <tbody>\n",
       "    <tr>\n",
       "      <th>count</th>\n",
       "      <td>8.980000e+02</td>\n",
       "      <td>900.000000</td>\n",
       "      <td>1177.000000</td>\n",
       "      <td>0.0</td>\n",
       "      <td>0.0</td>\n",
       "      <td>0.0</td>\n",
       "      <td>8.980000e+02</td>\n",
       "    </tr>\n",
       "    <tr>\n",
       "      <th>mean</th>\n",
       "      <td>8.443135e+11</td>\n",
       "      <td>83.584444</td>\n",
       "      <td>4.359388</td>\n",
       "      <td>NaN</td>\n",
       "      <td>NaN</td>\n",
       "      <td>NaN</td>\n",
       "      <td>8.443135e+11</td>\n",
       "    </tr>\n",
       "    <tr>\n",
       "      <th>std</th>\n",
       "      <td>3.416444e+09</td>\n",
       "      <td>197.150238</td>\n",
       "      <td>1.021445</td>\n",
       "      <td>NaN</td>\n",
       "      <td>NaN</td>\n",
       "      <td>NaN</td>\n",
       "      <td>3.416444e+09</td>\n",
       "    </tr>\n",
       "    <tr>\n",
       "      <th>min</th>\n",
       "      <td>8.416670e+11</td>\n",
       "      <td>0.000000</td>\n",
       "      <td>1.000000</td>\n",
       "      <td>NaN</td>\n",
       "      <td>NaN</td>\n",
       "      <td>NaN</td>\n",
       "      <td>8.416670e+11</td>\n",
       "    </tr>\n",
       "    <tr>\n",
       "      <th>25%</th>\n",
       "      <td>8.416670e+11</td>\n",
       "      <td>0.000000</td>\n",
       "      <td>4.000000</td>\n",
       "      <td>NaN</td>\n",
       "      <td>NaN</td>\n",
       "      <td>NaN</td>\n",
       "      <td>8.416670e+11</td>\n",
       "    </tr>\n",
       "    <tr>\n",
       "      <th>50%</th>\n",
       "      <td>8.416670e+11</td>\n",
       "      <td>0.000000</td>\n",
       "      <td>5.000000</td>\n",
       "      <td>NaN</td>\n",
       "      <td>NaN</td>\n",
       "      <td>NaN</td>\n",
       "      <td>8.416670e+11</td>\n",
       "    </tr>\n",
       "    <tr>\n",
       "      <th>75%</th>\n",
       "      <td>8.487190e+11</td>\n",
       "      <td>34.000000</td>\n",
       "      <td>5.000000</td>\n",
       "      <td>NaN</td>\n",
       "      <td>NaN</td>\n",
       "      <td>NaN</td>\n",
       "      <td>8.487190e+11</td>\n",
       "    </tr>\n",
       "    <tr>\n",
       "      <th>max</th>\n",
       "      <td>8.487190e+11</td>\n",
       "      <td>997.000000</td>\n",
       "      <td>5.000000</td>\n",
       "      <td>NaN</td>\n",
       "      <td>NaN</td>\n",
       "      <td>NaN</td>\n",
       "      <td>8.487190e+11</td>\n",
       "    </tr>\n",
       "  </tbody>\n",
       "</table>\n",
       "</div>"
      ],
      "text/plain": [
       "                ean  reviews.numHelpful  reviews.rating  reviews.userCity  \\\n",
       "count  8.980000e+02          900.000000     1177.000000               0.0   \n",
       "mean   8.443135e+11           83.584444        4.359388               NaN   \n",
       "std    3.416444e+09          197.150238        1.021445               NaN   \n",
       "min    8.416670e+11            0.000000        1.000000               NaN   \n",
       "25%    8.416670e+11            0.000000        4.000000               NaN   \n",
       "50%    8.416670e+11            0.000000        5.000000               NaN   \n",
       "75%    8.487190e+11           34.000000        5.000000               NaN   \n",
       "max    8.487190e+11          997.000000        5.000000               NaN   \n",
       "\n",
       "       reviews.userProvince  sizes           upc  \n",
       "count                   0.0    0.0  8.980000e+02  \n",
       "mean                    NaN    NaN  8.443135e+11  \n",
       "std                     NaN    NaN  3.416444e+09  \n",
       "min                     NaN    NaN  8.416670e+11  \n",
       "25%                     NaN    NaN  8.416670e+11  \n",
       "50%                     NaN    NaN  8.416670e+11  \n",
       "75%                     NaN    NaN  8.487190e+11  \n",
       "max                     NaN    NaN  8.487190e+11  "
      ]
     },
     "execution_count": 74,
     "metadata": {},
     "output_type": "execute_result"
    }
   ],
   "source": [
    "df.describe()"
   ]
  },
  {
   "cell_type": "markdown",
   "id": "06700d6c-2c4d-49f0-a3ed-de29c8833bab",
   "metadata": {},
   "source": [
    "# Data Cleaning"
   ]
  },
  {
   "cell_type": "code",
   "execution_count": 75,
   "id": "70ddfc83-8313-47eb-8387-baa6c1f32ed4",
   "metadata": {},
   "outputs": [],
   "source": [
    "# Saving a copy\n",
    "df1 = df.copy(deep = True)\n"
   ]
  },
  {
   "cell_type": "code",
   "execution_count": 76,
   "id": "4e7bc0ab-58e9-4437-907b-23420ce7491c",
   "metadata": {},
   "outputs": [
    {
     "name": "stdout",
     "output_type": "stream",
     "text": [
      "<class 'pandas.core.frame.DataFrame'>\n",
      "RangeIndex: 1597 entries, 0 to 1596\n",
      "Data columns (total 27 columns):\n",
      " #   Column                 Non-Null Count  Dtype  \n",
      "---  ------                 --------------  -----  \n",
      " 0   id                     1597 non-null   object \n",
      " 1   asins                  1597 non-null   object \n",
      " 2   brand                  1597 non-null   object \n",
      " 3   categories             1597 non-null   object \n",
      " 4   colors                 774 non-null    object \n",
      " 5   date_Added             1597 non-null   object \n",
      " 6   date_Updated           1597 non-null   object \n",
      " 7   dimension              565 non-null    object \n",
      " 8   ean                    898 non-null    float64\n",
      " 9   keys                   1597 non-null   object \n",
      " 10  manufacturer           965 non-null    object \n",
      " 11  manufacturer_Number    902 non-null    object \n",
      " 12  name                   1597 non-null   object \n",
      " 13  prices                 1597 non-null   object \n",
      " 14  reviews_date           1217 non-null   object \n",
      " 15  reviews_do_Recommend   539 non-null    object \n",
      " 16  reviews_num_Helpful    900 non-null    float64\n",
      " 17  reviews_rating         1177 non-null   float64\n",
      " 18  reviews_source_U_R_Ls  1597 non-null   object \n",
      " 19  reviews_text           1597 non-null   object \n",
      " 20  reviews_title          1580 non-null   object \n",
      " 21  reviews_user_City      0 non-null      float64\n",
      " 22  reviews_user_Province  0 non-null      float64\n",
      " 23  reviews_username       1580 non-null   object \n",
      " 24  sizes                  0 non-null      float64\n",
      " 25  upc                    898 non-null    float64\n",
      " 26  weight                 686 non-null    object \n",
      "dtypes: float64(7), object(20)\n",
      "memory usage: 337.0+ KB\n"
     ]
    }
   ],
   "source": [
    "#Changing the column format\n",
    "# Replacing the dots to underscore\n",
    "df1.columns = df1.columns.str.replace('.','_')\n",
    "\n",
    "# Function to add underscores in compound words\n",
    "def add_underscores(col_name):\n",
    "    return re.sub(r'(?<!^)(?=[A-Z])', '_', col_name)\n",
    "\n",
    "# Apply the function to all column names\n",
    "df1.columns = [add_underscores(col) for col in df1.columns]\n",
    "\n",
    "\n",
    "#Confirm changes\n",
    "df1.info()"
   ]
  },
  {
   "cell_type": "code",
   "execution_count": 77,
   "id": "ad1f31e6-cff1-49bf-8f95-6c3737bb59e4",
   "metadata": {},
   "outputs": [
    {
     "data": {
      "text/plain": [
       "reviews_date\n",
       "2014-07-28T00:00:00Z        42\n",
       "2014-07-24T00:00:00Z        31\n",
       "2014-05-02T05:00:00Z        24\n",
       "2014-04-07T00:00:00Z        23\n",
       "2014-04-03T05:00:00Z        22\n",
       "                            ..\n",
       "2017-05-26T00:00:00.000Z     1\n",
       "2017-05-22T00:00:00.000Z     1\n",
       "2017-05-20T00:00:00.000Z     1\n",
       "2017-05-19T00:00:00.000Z     1\n",
       "2016-07-31T00:00:00Z         1\n",
       "Name: count, Length: 382, dtype: int64"
      ]
     },
     "execution_count": 77,
     "metadata": {},
     "output_type": "execute_result"
    }
   ],
   "source": [
    "df1['reviews_date'].value_counts()"
   ]
  },
  {
   "cell_type": "code",
   "execution_count": 78,
   "id": "8a844384-17a5-40c9-b483-da3323f977c2",
   "metadata": {},
   "outputs": [
    {
     "data": {
      "text/plain": [
       "categories\n",
       "Amazon Devices,Home,Smart Home & Connected Living,Smart Hubs & Wireless Routers,Smart Hubs,Home Improvement,Home Safety & Security,Alarms & Sensors,Home Security,Amazon Echo,Home, Garage & Office,Smart Home,Voice Assistants,Amazon Tap,Electronics Features,TVs & Electronics,Portable Audio & Electronics,MP3 Player Accessories,Home Theater & Audio,Speakers,Featured Brands,Electronics,Kindle Store,Frys,Electronic Components,Home Automation,Electronics, Tech Toys, Movies, Music,Audio,Bluetooth Speakers    542\n",
       "Amazon Devices                                                                                                                                                                                                                                                                                                                                                                                                                                                                                                            195\n",
       "Categories,Amazon Devices,Electronics Features,Streaming Media Players,Consumer Electronics,See more Amazon Fire TV Digital HD Media Streamer (Late...                                                                                                                                                                                                                                                                                                                                                                    166\n",
       "Amazon Devices,Kindle Store                                                                                                                                                                                                                                                                                                                                                                                                                                                                                               151\n",
       "Amazon Devices,Corded Headsets,Electronics Features,Electronics,Audio,Headphones,Kindle Store,Kindle Accessories                                                                                                                                                                                                                                                                                                                                                                                                          133\n",
       "Electronics,Amazon Devices                                                                                                                                                                                                                                                                                                                                                                                                                                                                                                111\n",
       "Amazon Devices,Kindle Store,buy a kindle                                                                                                                                                                                                                                                                                                                                                                                                                                                                                   70\n",
       "Categories,Amazon Devices,Streaming Media Players                                                                                                                                                                                                                                                                                                                                                                                                                                                                          38\n",
       "Kindle Store,Amazon Devices,Electronics                                                                                                                                                                                                                                                                                                                                                                                                                                                                                    32\n",
       "Amazon Devices & Accessories,Amazon Device Accessories,Controllers & Remote Controls,Kindle Store,Fire TV Accessories,Controllers & Remotes,Controllers                                                                                                                                                                                                                                                                                                                                                                    29\n",
       "Amazon Devices,mazon.co.uk                                                                                                                                                                                                                                                                                                                                                                                                                                                                                                 23\n",
       "Amazon Devices & Accessories,Amazon Device Accessories,Kindle Store,Kindle E-Reader Accessories,Kindle Oasis Accessories                                                                                                                                                                                                                                                                                                                                                                                                   22\n",
       "Amazon Devices & Accessories,Amazon Device Accessories,Power Adapters & Cables,Kindle Store,Kindle E-Reader Accessories,Kindle Paperwhite Accessories                                                                                                                                                                                                                                                                                                                                                                      19\n",
       "Amazon Devices,Kindle Accessories                                                                                                                                                                                                                                                                                                                                                                                                                                                                                          18\n",
       "Amazon Devices,Electronics,Kindle Store                                                                                                                                                                                                                                                                                                                                                                                                                                                                                    16\n",
       "Cell Phones & Accessories,Accessories,Screen Protectors,Cell,Amazon Devices,Electronics                                                                                                                                                                                                                                                                                                                                                                                                                                    12\n",
       "Amazon Devices,Electronics,Kindle Store,Amazon Echo                                                                                                                                                                                                                                                                                                                                                                                                                                                                         9\n",
       "Amazon Devices & Accessories,Amazon Device Accessories,Controllers & Remote Controls,Kindle Store,Amazon Echo Accessories,Remote Controls                                                                                                                                                                                                                                                                                                                                                                                   7\n",
       "Amazon Devices,Kindle Store,Kindle Accessories                                                                                                                                                                                                                                                                                                                                                                                                                                                                              4\n",
       "Name: count, dtype: int64"
      ]
     },
     "execution_count": 78,
     "metadata": {},
     "output_type": "execute_result"
    }
   ],
   "source": [
    "df1['categories'].value_counts()"
   ]
  },
  {
   "cell_type": "code",
   "execution_count": 79,
   "id": "75db9c12-6c9a-44fb-ae57-ca2a645e2981",
   "metadata": {},
   "outputs": [
    {
     "data": {
      "text/plain": [
       "manufacturer\n",
       "Amazon    832\n",
       "AMDSI     133\n",
       "Name: count, dtype: int64"
      ]
     },
     "execution_count": 79,
     "metadata": {},
     "output_type": "execute_result"
    }
   ],
   "source": [
    "df1[\"manufacturer\"].value_counts()"
   ]
  },
  {
   "cell_type": "code",
   "execution_count": 80,
   "id": "a513441a-d47f-44e7-9ca1-cd7fd135f565",
   "metadata": {},
   "outputs": [
    {
     "data": {
      "text/plain": [
       "keys\n",
       "amazontapalexaenabledportablebluetoothspeaker/b01bh83oom,amazonamazontapportablebluetoothwifispeakerblack/5097300,841667107929,amazonecho/52353110,0841667107929,tapalexaenabledportablebluetoothspeaker/05743627000p,amazon/53004496,amazon/b01bh83oom,amazontapportablebluetoothwifispeakerblack/1001803403    542\n",
       "848719022827,0848719022827,amazonfiretv/b00cx5p8fc,amazon/848719022827,2015amazonfiretv4kultrahddigitalmediastreamersealedbox/151842588028,brandnewamazonfiretvboxsealedinretailbox2015/272013292018                                                                                                             166\n",
       "amazonpremiumheadphones/b00hx0srxw,0848719039504,848719039504,amazon/ka416y,amazon/55000239z                                                                                                                                                                                                                     133\n",
       "firehd6tablet/b00lwhu9d8                                                                                                                                                                                                                                                                                          87\n",
       "kindlefirehdx7/b00dopno4m,kindlefirehdx7/b00bwyq9ye,kindlefirehdx7/b00cyqpmjc,kindlefirehdx7/b00cuu1cgy,kindlefirehdx7/b00bwyrf7e,kindlefirehdx7/b00cyqp3ak                                                                                                                                                       70\n",
       "                                                                                                                                                                                                                                                                                                                ... \n",
       "firekidseditiontablet/b010bwyp20                                                                                                                                                                                                                                                                                   3\n",
       "firehd8tabletwithalexa/b01brwh8g8                                                                                                                                                                                                                                                                                  3\n",
       "kindlepaperwhite3g/b00qjdvbfu                                                                                                                                                                                                                                                                                      3\n",
       "kindlepaperwhiteereaderblack/b00oqvzdjm                                                                                                                                                                                                                                                                            3\n",
       "amazontapslingcovermagenta/b01fwsvgqq                                                                                                                                                                                                                                                                              3\n",
       "Name: count, Length: 66, dtype: int64"
      ]
     },
     "execution_count": 80,
     "metadata": {},
     "output_type": "execute_result"
    }
   ],
   "source": [
    "df1['keys'].value_counts()"
   ]
  },
  {
   "cell_type": "code",
   "execution_count": 83,
   "id": "41032c5c-0acc-40f6-90c8-b07fb856b624",
   "metadata": {},
   "outputs": [
    {
     "name": "stdout",
     "output_type": "stream",
     "text": [
      "Index(['reviews_date', 'reviews_do_Recommend', 'reviews_num_Helpful',\n",
      "       'reviews_rating', 'reviews_text', 'reviews_title', 'reviews_username'],\n",
      "      dtype='object')\n"
     ]
    }
   ],
   "source": [
    "# List of unnecessary columns to drop\n",
    "columns_to_drop = [\n",
    "    \"id\", \"asins\", \"brand\",\"ean\",\"keys\", \"categories\", \"colors\", \"date_Added\", \"date_Updated\", \n",
    "    \"dimension\", \"manufacturer\", \"manufacturer_Number\", \"name\", \"prices\", \n",
    "    \"reviews_source_U_R_Ls\", \"reviews_user_City\", \"reviews_user_Province\", \n",
    "    \"sizes\", \"upc\", \"weight\"\n",
    "]\n",
    "\n",
    "# Drop unnecessary columns\n",
    "df1 = df1.drop(columns=columns_to_drop, axis=1)\n",
    "\n",
    "# Display remaining columns\n",
    "print(df1.columns)"
   ]
  },
  {
   "cell_type": "code",
   "execution_count": 84,
   "id": "65759e01-f439-464b-a39c-32754aa55cb5",
   "metadata": {},
   "outputs": [
    {
     "data": {
      "text/plain": [
       "reviews_num_Helpful\n",
       "0.0      504\n",
       "2.0       23\n",
       "3.0       18\n",
       "1.0       16\n",
       "5.0       15\n",
       "        ... \n",
       "834.0      1\n",
       "323.0      1\n",
       "102.0      1\n",
       "790.0      1\n",
       "136.0      1\n",
       "Name: count, Length: 182, dtype: int64"
      ]
     },
     "execution_count": 84,
     "metadata": {},
     "output_type": "execute_result"
    }
   ],
   "source": [
    "df1['reviews_num_Helpful'].value_counts()"
   ]
  },
  {
   "cell_type": "code",
   "execution_count": 86,
   "id": "ba4a53ab-b308-4260-a440-e28095116100",
   "metadata": {},
   "outputs": [
    {
     "data": {
      "text/plain": [
       "array([139., 126.,  69.,   2.,  17.,  nan, 303., 138., 207., 245.,  43.,\n",
       "        14.,   5.,  30.,  68., 123., 122.,  36., 402., 330.,  85.,  59.,\n",
       "       694.,  38.,  15.,  22.,   4., 719., 641., 498., 716., 739.,  48.,\n",
       "         8.,  24.,   3.,  19.,  13., 671., 936., 206., 586., 120., 160.,\n",
       "        25., 769., 357., 656.,  50., 669., 194., 350., 848., 294., 729.,\n",
       "        56.,   6.,  64.,  34.,  83.,  29.,  27., 143.,  16.,  18.,  31.,\n",
       "        61.,  82., 581., 870., 177., 215.,  88., 599., 221., 750., 790.,\n",
       "       102., 323., 834.,  74.,  11., 346.,  89., 111., 190., 172.,   7.,\n",
       "         9.,  35.,  63., 449., 620., 142.,  87.,  12.,  40., 281., 216.,\n",
       "       822., 185., 944., 551., 182., 685., 432., 975.,  20., 745., 236.,\n",
       "       407., 287., 249., 170., 112., 201.,  37.,  41.,  21.,  66., 147.,\n",
       "       125., 403., 517.,   0., 180., 228., 997., 505., 965., 443., 358.,\n",
       "       510., 326., 151., 890., 754., 902., 512.,  75., 205., 456., 932.,\n",
       "       771., 459.,  52., 781., 966., 539., 704.,  76., 427., 928., 914.,\n",
       "       988., 633., 937., 509., 971., 448., 426., 681., 527., 155., 312.,\n",
       "       806., 295.,   1., 192., 315., 470., 390., 446., 372., 368., 118.,\n",
       "       391.,  10.,  23., 335., 318., 164., 136.])"
      ]
     },
     "execution_count": 86,
     "metadata": {},
     "output_type": "execute_result"
    }
   ],
   "source": [
    "df1['reviews_num_Helpful'].unique()"
   ]
  },
  {
   "cell_type": "code",
   "execution_count": 85,
   "id": "9eec81e9-dfd3-42e0-80b6-a68a48c9b3b7",
   "metadata": {},
   "outputs": [
    {
     "data": {
      "text/plain": [
       "reviews_rating\n",
       "5.0    741\n",
       "4.0    236\n",
       "3.0    124\n",
       "1.0     42\n",
       "2.0     34\n",
       "Name: count, dtype: int64"
      ]
     },
     "execution_count": 85,
     "metadata": {},
     "output_type": "execute_result"
    }
   ],
   "source": [
    "df1['reviews_rating'].value_counts()"
   ]
  }
 ],
 "metadata": {
  "kernelspec": {
   "display_name": "Python 3 (ipykernel)",
   "language": "python",
   "name": "python3"
  },
  "language_info": {
   "codemirror_mode": {
    "name": "ipython",
    "version": 3
   },
   "file_extension": ".py",
   "mimetype": "text/x-python",
   "name": "python",
   "nbconvert_exporter": "python",
   "pygments_lexer": "ipython3",
   "version": "3.11.7"
  }
 },
 "nbformat": 4,
 "nbformat_minor": 5
}
